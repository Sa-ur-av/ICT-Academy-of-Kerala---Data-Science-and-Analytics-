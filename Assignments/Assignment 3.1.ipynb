{
 "cells": [
  {
   "cell_type": "markdown",
   "id": "a26d441b",
   "metadata": {},
   "source": [
    "# Assignment Question 1"
   ]
  },
  {
   "cell_type": "markdown",
   "id": "e4546208",
   "metadata": {},
   "source": [
    "#### Question: \n",
    "An Institution wishes to find out their student’s ability in\n",
    "mathematics, reading and writing skills. The Institution\n",
    "wants to do an exploratory study to check the following\n",
    "information.\n",
    "\n",
    "a. Find out how many males and females participated in the test.\n",
    "\n",
    "b. What do you think about the students' parental level of education?\n",
    "\n",
    "c. Who scores the most on average for math, reading and writing based on \n",
    "    \n",
    "    i. Gender\n",
    "    ii. Test preparation course\n",
    "\n",
    "d. What do you think about the scoring variation for\n",
    "math, reading and writing based on\n",
    "    \n",
    "    i. Gender\n",
    "    ii. Test preparation course\n",
    "\n",
    "e. The management needs your help to give bonus points\n",
    "to the top 25% of students based on their math score,\n",
    "so how will you help the management to achieve this."
   ]
  },
  {
   "cell_type": "code",
   "execution_count": 1,
   "id": "7a6d3b44",
   "metadata": {},
   "outputs": [],
   "source": [
    "import numpy as np\n",
    "import pandas as pd\n",
    "import matplotlib.pyplot as plt\n",
    "import seaborn as sns\n",
    "%matplotlib inline"
   ]
  },
  {
   "cell_type": "code",
   "execution_count": 2,
   "id": "4d5adc12",
   "metadata": {},
   "outputs": [
    {
     "data": {
      "text/html": [
       "<div>\n",
       "<style scoped>\n",
       "    .dataframe tbody tr th:only-of-type {\n",
       "        vertical-align: middle;\n",
       "    }\n",
       "\n",
       "    .dataframe tbody tr th {\n",
       "        vertical-align: top;\n",
       "    }\n",
       "\n",
       "    .dataframe thead th {\n",
       "        text-align: right;\n",
       "    }\n",
       "</style>\n",
       "<table border=\"1\" class=\"dataframe\">\n",
       "  <thead>\n",
       "    <tr style=\"text-align: right;\">\n",
       "      <th></th>\n",
       "      <th>gender</th>\n",
       "      <th>race/ethnicity</th>\n",
       "      <th>parental level of education</th>\n",
       "      <th>lunch</th>\n",
       "      <th>test preparation course</th>\n",
       "      <th>math score</th>\n",
       "      <th>reading score</th>\n",
       "      <th>writing score</th>\n",
       "    </tr>\n",
       "  </thead>\n",
       "  <tbody>\n",
       "    <tr>\n",
       "      <th>0</th>\n",
       "      <td>female</td>\n",
       "      <td>group C</td>\n",
       "      <td>some high school</td>\n",
       "      <td>free/reduced</td>\n",
       "      <td>none</td>\n",
       "      <td>0</td>\n",
       "      <td>17</td>\n",
       "      <td>10</td>\n",
       "    </tr>\n",
       "    <tr>\n",
       "      <th>1</th>\n",
       "      <td>female</td>\n",
       "      <td>group B</td>\n",
       "      <td>high school</td>\n",
       "      <td>free/reduced</td>\n",
       "      <td>none</td>\n",
       "      <td>8</td>\n",
       "      <td>24</td>\n",
       "      <td>23</td>\n",
       "    </tr>\n",
       "    <tr>\n",
       "      <th>2</th>\n",
       "      <td>female</td>\n",
       "      <td>group B</td>\n",
       "      <td>some high school</td>\n",
       "      <td>free/reduced</td>\n",
       "      <td>none</td>\n",
       "      <td>18</td>\n",
       "      <td>32</td>\n",
       "      <td>28</td>\n",
       "    </tr>\n",
       "    <tr>\n",
       "      <th>3</th>\n",
       "      <td>female</td>\n",
       "      <td>group B</td>\n",
       "      <td>some college</td>\n",
       "      <td>standard</td>\n",
       "      <td>none</td>\n",
       "      <td>11</td>\n",
       "      <td>38</td>\n",
       "      <td>32</td>\n",
       "    </tr>\n",
       "    <tr>\n",
       "      <th>4</th>\n",
       "      <td>female</td>\n",
       "      <td>group C</td>\n",
       "      <td>some college</td>\n",
       "      <td>free/reduced</td>\n",
       "      <td>none</td>\n",
       "      <td>22</td>\n",
       "      <td>39</td>\n",
       "      <td>33</td>\n",
       "    </tr>\n",
       "    <tr>\n",
       "      <th>...</th>\n",
       "      <td>...</td>\n",
       "      <td>...</td>\n",
       "      <td>...</td>\n",
       "      <td>...</td>\n",
       "      <td>...</td>\n",
       "      <td>...</td>\n",
       "      <td>...</td>\n",
       "      <td>...</td>\n",
       "    </tr>\n",
       "    <tr>\n",
       "      <th>995</th>\n",
       "      <td>male</td>\n",
       "      <td>group E</td>\n",
       "      <td>some college</td>\n",
       "      <td>standard</td>\n",
       "      <td>completed</td>\n",
       "      <td>99</td>\n",
       "      <td>87</td>\n",
       "      <td>81</td>\n",
       "    </tr>\n",
       "    <tr>\n",
       "      <th>996</th>\n",
       "      <td>male</td>\n",
       "      <td>group A</td>\n",
       "      <td>some college</td>\n",
       "      <td>standard</td>\n",
       "      <td>completed</td>\n",
       "      <td>100</td>\n",
       "      <td>96</td>\n",
       "      <td>86</td>\n",
       "    </tr>\n",
       "    <tr>\n",
       "      <th>997</th>\n",
       "      <td>male</td>\n",
       "      <td>group D</td>\n",
       "      <td>some college</td>\n",
       "      <td>standard</td>\n",
       "      <td>completed</td>\n",
       "      <td>100</td>\n",
       "      <td>97</td>\n",
       "      <td>99</td>\n",
       "    </tr>\n",
       "    <tr>\n",
       "      <th>998</th>\n",
       "      <td>male</td>\n",
       "      <td>group E</td>\n",
       "      <td>associate's degree</td>\n",
       "      <td>free/reduced</td>\n",
       "      <td>completed</td>\n",
       "      <td>100</td>\n",
       "      <td>100</td>\n",
       "      <td>93</td>\n",
       "    </tr>\n",
       "    <tr>\n",
       "      <th>999</th>\n",
       "      <td>male</td>\n",
       "      <td>group E</td>\n",
       "      <td>bachelor's degree</td>\n",
       "      <td>standard</td>\n",
       "      <td>completed</td>\n",
       "      <td>100</td>\n",
       "      <td>100</td>\n",
       "      <td>100</td>\n",
       "    </tr>\n",
       "  </tbody>\n",
       "</table>\n",
       "<p>1000 rows × 8 columns</p>\n",
       "</div>"
      ],
      "text/plain": [
       "     gender race/ethnicity parental level of education         lunch  \\\n",
       "0    female        group C            some high school  free/reduced   \n",
       "1    female        group B                 high school  free/reduced   \n",
       "2    female        group B            some high school  free/reduced   \n",
       "3    female        group B                some college      standard   \n",
       "4    female        group C                some college  free/reduced   \n",
       "..      ...            ...                         ...           ...   \n",
       "995    male        group E                some college      standard   \n",
       "996    male        group A                some college      standard   \n",
       "997    male        group D                some college      standard   \n",
       "998    male        group E          associate's degree  free/reduced   \n",
       "999    male        group E           bachelor's degree      standard   \n",
       "\n",
       "    test preparation course  math score  reading score  writing score  \n",
       "0                      none           0             17             10  \n",
       "1                      none           8             24             23  \n",
       "2                      none          18             32             28  \n",
       "3                      none          11             38             32  \n",
       "4                      none          22             39             33  \n",
       "..                      ...         ...            ...            ...  \n",
       "995               completed          99             87             81  \n",
       "996               completed         100             96             86  \n",
       "997               completed         100             97             99  \n",
       "998               completed         100            100             93  \n",
       "999               completed         100            100            100  \n",
       "\n",
       "[1000 rows x 8 columns]"
      ]
     },
     "execution_count": 2,
     "metadata": {},
     "output_type": "execute_result"
    }
   ],
   "source": [
    "df=pd.read_csv(r'C:\\Users\\Dell\\Desktop\\Files\\Assignment 3\\Students_Performance.csv')\n",
    "df"
   ]
  },
  {
   "cell_type": "markdown",
   "id": "a30bf256",
   "metadata": {},
   "source": [
    "#### a.To find out how many males and females participated in the test"
   ]
  },
  {
   "cell_type": "code",
   "execution_count": 4,
   "id": "8aeb7ec3",
   "metadata": {},
   "outputs": [],
   "source": [
    "gender_count = df['gender'].value_counts()"
   ]
  },
  {
   "cell_type": "code",
   "execution_count": 6,
   "id": "5a91e302",
   "metadata": {},
   "outputs": [
    {
     "name": "stdout",
     "output_type": "stream",
     "text": [
      "Number of males participated in the test is equal to 482\n",
      "Number of females participated in the test is equal to 518\n"
     ]
    }
   ],
   "source": [
    "print('Number of males participated in the test is equal to',gender_count['male'])\n",
    "print('Number of females participated in the test is equal to',gender_count['female'])"
   ]
  },
  {
   "cell_type": "markdown",
   "id": "efdccbbc",
   "metadata": {},
   "source": [
    "#### b.To assess the student's parental level of education"
   ]
  },
  {
   "cell_type": "code",
   "execution_count": 7,
   "id": "be112d15",
   "metadata": {},
   "outputs": [
    {
     "data": {
      "text/plain": [
       "Index(['gender', 'race/ethnicity', 'parental level of education', 'lunch',\n",
       "       'test preparation course', 'math score', 'reading score',\n",
       "       'writing score'],\n",
       "      dtype='object')"
      ]
     },
     "execution_count": 7,
     "metadata": {},
     "output_type": "execute_result"
    }
   ],
   "source": [
    "df.columns"
   ]
  },
  {
   "cell_type": "code",
   "execution_count": 8,
   "id": "ba7cd613",
   "metadata": {},
   "outputs": [],
   "source": [
    "pe_counts = df['parental level of education'].value_counts()"
   ]
  },
  {
   "cell_type": "code",
   "execution_count": 9,
   "id": "12d0e997",
   "metadata": {},
   "outputs": [
    {
     "data": {
      "text/plain": [
       "some college          226\n",
       "associate's degree    222\n",
       "high school           196\n",
       "some high school      179\n",
       "bachelor's degree     118\n",
       "master's degree        59\n",
       "Name: parental level of education, dtype: int64"
      ]
     },
     "execution_count": 9,
     "metadata": {},
     "output_type": "execute_result"
    }
   ],
   "source": [
    "pe_counts"
   ]
  },
  {
   "cell_type": "code",
   "execution_count": 10,
   "id": "89d01960",
   "metadata": {},
   "outputs": [
    {
     "data": {
      "text/plain": [
       "([0, 1, 2, 3, 4, 5],\n",
       " [Text(0, 0, 'some high school'),\n",
       "  Text(1, 0, 'high school'),\n",
       "  Text(2, 0, 'some college'),\n",
       "  Text(3, 0, \"associate's degree\"),\n",
       "  Text(4, 0, \"bachelor's degree\"),\n",
       "  Text(5, 0, \"master's degree\")])"
      ]
     },
     "execution_count": 10,
     "metadata": {},
     "output_type": "execute_result"
    },
    {
     "data": {
      "image/png": "[encoded data removed]",
      "text/plain": [
       "<Figure size 640x480 with 1 Axes>"
      ]
     },
     "metadata": {},
     "output_type": "display_data"
    }
   ],
   "source": [
    "df['parental level of education'].hist(bins=20)\n",
    "plt.xticks(rotation=90)"
   ]
  },
  {
   "cell_type": "markdown",
   "id": "da41892e",
   "metadata": {},
   "source": [
    "From this we can the say the most of the parents have some collage education and associates degree ,parents with masters degree are less in number also parents with bachelor's degree are less in number but more than master's degree, parents with high school education are in between."
   ]
  },
  {
   "cell_type": "markdown",
   "id": "25a1fed2",
   "metadata": {},
   "source": [
    "#### c. To find out Who scores the most on average for math, reading and writing \n",
    "##### i. Based on Gender"
   ]
  },
  {
   "cell_type": "code",
   "execution_count": 11,
   "id": "7e8e22b9",
   "metadata": {},
   "outputs": [
    {
     "data": {
      "text/plain": [
       "Index(['gender', 'race/ethnicity', 'parental level of education', 'lunch',\n",
       "       'test preparation course', 'math score', 'reading score',\n",
       "       'writing score'],\n",
       "      dtype='object')"
      ]
     },
     "execution_count": 11,
     "metadata": {},
     "output_type": "execute_result"
    }
   ],
   "source": [
    "df.columns"
   ]
  },
  {
   "cell_type": "code",
   "execution_count": 12,
   "id": "a0467ee3",
   "metadata": {},
   "outputs": [],
   "source": [
    "average_score1 = df.groupby(['gender'])[[ 'math score', 'reading score',\n",
    "       'writing score']].mean()"
   ]
  },
  {
   "cell_type": "code",
   "execution_count": 13,
   "id": "45f92e76",
   "metadata": {},
   "outputs": [
    {
     "name": "stdout",
     "output_type": "stream",
     "text": [
      "Average score based on gender         math score  reading score  writing score\n",
      "gender                                          \n",
      "female   63.376448      72.590734      72.467181\n",
      "male     68.821577      65.545643      63.446058\n"
     ]
    }
   ],
   "source": [
    "print('Average score based on gender',average_score1)"
   ]
  },
  {
   "cell_type": "markdown",
   "id": "001e4f0b",
   "metadata": {},
   "source": [
    "##### ii. Test preparation course"
   ]
  },
  {
   "cell_type": "code",
   "execution_count": 15,
   "id": "9173f8cd",
   "metadata": {},
   "outputs": [],
   "source": [
    "average_score2 = df.groupby(['test preparation course'])[[ 'math score', 'reading score','writing score']].mean()"
   ]
  },
  {
   "cell_type": "code",
   "execution_count": 16,
   "id": "6bb5124a",
   "metadata": {},
   "outputs": [
    {
     "name": "stdout",
     "output_type": "stream",
     "text": [
      "Average score based on test preparation course                          math score  reading score  writing score\n",
      "test preparation course                                          \n",
      "completed                  69.96648      74.175978      74.684358\n",
      "none                       63.78972      66.417445      64.457944\n"
     ]
    }
   ],
   "source": [
    "print('Average score based on test preparation course',average_score2)"
   ]
  },
  {
   "cell_type": "markdown",
   "id": "3dcacad1",
   "metadata": {},
   "source": [
    "#### d. scoring variation for math, reading and writing\n",
    "##### i. Based on Gender"
   ]
  },
  {
   "cell_type": "code",
   "execution_count": 17,
   "id": "c1f81ad0",
   "metadata": {},
   "outputs": [],
   "source": [
    "sd_gender = df.groupby('gender')[['math score', 'reading score','writing score']].std()"
   ]
  },
  {
   "cell_type": "code",
   "execution_count": 18,
   "id": "a4103524",
   "metadata": {},
   "outputs": [
    {
     "name": "stdout",
     "output_type": "stream",
     "text": [
      "Standard deviation based on gender         math score  reading score  writing score\n",
      "gender                                          \n",
      "female   16.029928      14.411018      14.844842\n",
      "male     14.556411      14.149594      14.227225\n"
     ]
    }
   ],
   "source": [
    "print(\"Standard deviation based on gender\",sd_gender)"
   ]
  },
  {
   "cell_type": "markdown",
   "id": "a238f94c",
   "metadata": {},
   "source": [
    "##### ii. Test preparation course"
   ]
  },
  {
   "cell_type": "code",
   "execution_count": 20,
   "id": "b164662e",
   "metadata": {},
   "outputs": [],
   "source": [
    "sd_tpc = df.groupby('test preparation course')[['math score', 'reading score','writing score']].std()"
   ]
  },
  {
   "cell_type": "code",
   "execution_count": 21,
   "id": "363c5ee7",
   "metadata": {},
   "outputs": [
    {
     "name": "stdout",
     "output_type": "stream",
     "text": [
      "Standard deviation based on test preparation course                          math score  reading score  writing score\n",
      "test preparation course                                          \n",
      "completed                 14.521847      13.537572      13.236412\n",
      "none                      15.705689      14.608896      15.041667\n"
     ]
    }
   ],
   "source": [
    "print(\"Standard deviation based on test preparation course\",sd_tpc)"
   ]
  },
  {
   "cell_type": "markdown",
   "id": "040275c3",
   "metadata": {},
   "source": [
    "#### e. The management needs your help to give bonus points to the top 25% of students based on their math score, so how will you help the management to achieve this."
   ]
  },
  {
   "cell_type": "code",
   "execution_count": 22,
   "id": "45b8604b",
   "metadata": {},
   "outputs": [],
   "source": [
    "percentile25 = np.percentile(df['math score'], 25)"
   ]
  },
  {
   "cell_type": "code",
   "execution_count": 23,
   "id": "a660ecc1",
   "metadata": {},
   "outputs": [],
   "source": [
    "top25= df[df['math score'] >= percentile25]"
   ]
  },
  {
   "cell_type": "code",
   "execution_count": 24,
   "id": "02a5d950",
   "metadata": {},
   "outputs": [
    {
     "name": "stdout",
     "output_type": "stream",
     "text": [
      "Top 25 students eligible for bonus points\n"
     ]
    },
    {
     "data": {
      "text/html": [
       "<div>\n",
       "<style scoped>\n",
       "    .dataframe tbody tr th:only-of-type {\n",
       "        vertical-align: middle;\n",
       "    }\n",
       "\n",
       "    .dataframe tbody tr th {\n",
       "        vertical-align: top;\n",
       "    }\n",
       "\n",
       "    .dataframe thead th {\n",
       "        text-align: right;\n",
       "    }\n",
       "</style>\n",
       "<table border=\"1\" class=\"dataframe\">\n",
       "  <thead>\n",
       "    <tr style=\"text-align: right;\">\n",
       "      <th></th>\n",
       "      <th>gender</th>\n",
       "      <th>race/ethnicity</th>\n",
       "      <th>parental level of education</th>\n",
       "      <th>lunch</th>\n",
       "      <th>test preparation course</th>\n",
       "      <th>math score</th>\n",
       "      <th>reading score</th>\n",
       "      <th>writing score</th>\n",
       "    </tr>\n",
       "  </thead>\n",
       "  <tbody>\n",
       "    <tr>\n",
       "      <th>153</th>\n",
       "      <td>female</td>\n",
       "      <td>group B</td>\n",
       "      <td>associate's degree</td>\n",
       "      <td>standard</td>\n",
       "      <td>none</td>\n",
       "      <td>57</td>\n",
       "      <td>69</td>\n",
       "      <td>68</td>\n",
       "    </tr>\n",
       "    <tr>\n",
       "      <th>154</th>\n",
       "      <td>female</td>\n",
       "      <td>group B</td>\n",
       "      <td>some high school</td>\n",
       "      <td>standard</td>\n",
       "      <td>none</td>\n",
       "      <td>57</td>\n",
       "      <td>67</td>\n",
       "      <td>72</td>\n",
       "    </tr>\n",
       "    <tr>\n",
       "      <th>155</th>\n",
       "      <td>female</td>\n",
       "      <td>group C</td>\n",
       "      <td>associate's degree</td>\n",
       "      <td>free/reduced</td>\n",
       "      <td>none</td>\n",
       "      <td>57</td>\n",
       "      <td>78</td>\n",
       "      <td>67</td>\n",
       "    </tr>\n",
       "    <tr>\n",
       "      <th>156</th>\n",
       "      <td>female</td>\n",
       "      <td>group C</td>\n",
       "      <td>associate's degree</td>\n",
       "      <td>standard</td>\n",
       "      <td>completed</td>\n",
       "      <td>57</td>\n",
       "      <td>77</td>\n",
       "      <td>80</td>\n",
       "    </tr>\n",
       "    <tr>\n",
       "      <th>157</th>\n",
       "      <td>female</td>\n",
       "      <td>group D</td>\n",
       "      <td>associate's degree</td>\n",
       "      <td>free/reduced</td>\n",
       "      <td>completed</td>\n",
       "      <td>57</td>\n",
       "      <td>74</td>\n",
       "      <td>76</td>\n",
       "    </tr>\n",
       "    <tr>\n",
       "      <th>158</th>\n",
       "      <td>female</td>\n",
       "      <td>group D</td>\n",
       "      <td>high school</td>\n",
       "      <td>standard</td>\n",
       "      <td>completed</td>\n",
       "      <td>57</td>\n",
       "      <td>58</td>\n",
       "      <td>64</td>\n",
       "    </tr>\n",
       "    <tr>\n",
       "      <th>159</th>\n",
       "      <td>female</td>\n",
       "      <td>group D</td>\n",
       "      <td>associate's degree</td>\n",
       "      <td>standard</td>\n",
       "      <td>completed</td>\n",
       "      <td>57</td>\n",
       "      <td>78</td>\n",
       "      <td>79</td>\n",
       "    </tr>\n",
       "    <tr>\n",
       "      <th>160</th>\n",
       "      <td>female</td>\n",
       "      <td>group E</td>\n",
       "      <td>associate's degree</td>\n",
       "      <td>free/reduced</td>\n",
       "      <td>completed</td>\n",
       "      <td>57</td>\n",
       "      <td>68</td>\n",
       "      <td>73</td>\n",
       "    </tr>\n",
       "    <tr>\n",
       "      <th>161</th>\n",
       "      <td>female</td>\n",
       "      <td>group E</td>\n",
       "      <td>high school</td>\n",
       "      <td>free/reduced</td>\n",
       "      <td>none</td>\n",
       "      <td>57</td>\n",
       "      <td>58</td>\n",
       "      <td>57</td>\n",
       "    </tr>\n",
       "    <tr>\n",
       "      <th>162</th>\n",
       "      <td>female</td>\n",
       "      <td>group E</td>\n",
       "      <td>high school</td>\n",
       "      <td>free/reduced</td>\n",
       "      <td>completed</td>\n",
       "      <td>57</td>\n",
       "      <td>75</td>\n",
       "      <td>73</td>\n",
       "    </tr>\n",
       "    <tr>\n",
       "      <th>163</th>\n",
       "      <td>female</td>\n",
       "      <td>group A</td>\n",
       "      <td>some college</td>\n",
       "      <td>standard</td>\n",
       "      <td>none</td>\n",
       "      <td>58</td>\n",
       "      <td>70</td>\n",
       "      <td>67</td>\n",
       "    </tr>\n",
       "    <tr>\n",
       "      <th>164</th>\n",
       "      <td>female</td>\n",
       "      <td>group B</td>\n",
       "      <td>master's degree</td>\n",
       "      <td>free/reduced</td>\n",
       "      <td>completed</td>\n",
       "      <td>58</td>\n",
       "      <td>76</td>\n",
       "      <td>78</td>\n",
       "    </tr>\n",
       "    <tr>\n",
       "      <th>165</th>\n",
       "      <td>female</td>\n",
       "      <td>group B</td>\n",
       "      <td>some college</td>\n",
       "      <td>free/reduced</td>\n",
       "      <td>none</td>\n",
       "      <td>58</td>\n",
       "      <td>61</td>\n",
       "      <td>66</td>\n",
       "    </tr>\n",
       "    <tr>\n",
       "      <th>166</th>\n",
       "      <td>female</td>\n",
       "      <td>group B</td>\n",
       "      <td>high school</td>\n",
       "      <td>standard</td>\n",
       "      <td>completed</td>\n",
       "      <td>58</td>\n",
       "      <td>70</td>\n",
       "      <td>68</td>\n",
       "    </tr>\n",
       "    <tr>\n",
       "      <th>167</th>\n",
       "      <td>female</td>\n",
       "      <td>group B</td>\n",
       "      <td>high school</td>\n",
       "      <td>standard</td>\n",
       "      <td>none</td>\n",
       "      <td>58</td>\n",
       "      <td>62</td>\n",
       "      <td>59</td>\n",
       "    </tr>\n",
       "    <tr>\n",
       "      <th>168</th>\n",
       "      <td>female</td>\n",
       "      <td>group B</td>\n",
       "      <td>associate's degree</td>\n",
       "      <td>standard</td>\n",
       "      <td>none</td>\n",
       "      <td>58</td>\n",
       "      <td>63</td>\n",
       "      <td>65</td>\n",
       "    </tr>\n",
       "    <tr>\n",
       "      <th>169</th>\n",
       "      <td>female</td>\n",
       "      <td>group B</td>\n",
       "      <td>high school</td>\n",
       "      <td>standard</td>\n",
       "      <td>none</td>\n",
       "      <td>58</td>\n",
       "      <td>68</td>\n",
       "      <td>61</td>\n",
       "    </tr>\n",
       "    <tr>\n",
       "      <th>170</th>\n",
       "      <td>female</td>\n",
       "      <td>group C</td>\n",
       "      <td>associate's degree</td>\n",
       "      <td>standard</td>\n",
       "      <td>none</td>\n",
       "      <td>58</td>\n",
       "      <td>73</td>\n",
       "      <td>68</td>\n",
       "    </tr>\n",
       "    <tr>\n",
       "      <th>171</th>\n",
       "      <td>female</td>\n",
       "      <td>group C</td>\n",
       "      <td>some college</td>\n",
       "      <td>standard</td>\n",
       "      <td>none</td>\n",
       "      <td>58</td>\n",
       "      <td>67</td>\n",
       "      <td>72</td>\n",
       "    </tr>\n",
       "    <tr>\n",
       "      <th>172</th>\n",
       "      <td>female</td>\n",
       "      <td>group C</td>\n",
       "      <td>some college</td>\n",
       "      <td>standard</td>\n",
       "      <td>none</td>\n",
       "      <td>58</td>\n",
       "      <td>59</td>\n",
       "      <td>66</td>\n",
       "    </tr>\n",
       "    <tr>\n",
       "      <th>173</th>\n",
       "      <td>female</td>\n",
       "      <td>group C</td>\n",
       "      <td>high school</td>\n",
       "      <td>standard</td>\n",
       "      <td>completed</td>\n",
       "      <td>58</td>\n",
       "      <td>75</td>\n",
       "      <td>77</td>\n",
       "    </tr>\n",
       "    <tr>\n",
       "      <th>174</th>\n",
       "      <td>female</td>\n",
       "      <td>group D</td>\n",
       "      <td>some college</td>\n",
       "      <td>free/reduced</td>\n",
       "      <td>completed</td>\n",
       "      <td>58</td>\n",
       "      <td>63</td>\n",
       "      <td>73</td>\n",
       "    </tr>\n",
       "    <tr>\n",
       "      <th>175</th>\n",
       "      <td>female</td>\n",
       "      <td>group D</td>\n",
       "      <td>some college</td>\n",
       "      <td>free/reduced</td>\n",
       "      <td>none</td>\n",
       "      <td>58</td>\n",
       "      <td>67</td>\n",
       "      <td>62</td>\n",
       "    </tr>\n",
       "    <tr>\n",
       "      <th>176</th>\n",
       "      <td>female</td>\n",
       "      <td>group A</td>\n",
       "      <td>some high school</td>\n",
       "      <td>standard</td>\n",
       "      <td>completed</td>\n",
       "      <td>59</td>\n",
       "      <td>85</td>\n",
       "      <td>80</td>\n",
       "    </tr>\n",
       "    <tr>\n",
       "      <th>177</th>\n",
       "      <td>female</td>\n",
       "      <td>group A</td>\n",
       "      <td>some high school</td>\n",
       "      <td>free/reduced</td>\n",
       "      <td>none</td>\n",
       "      <td>59</td>\n",
       "      <td>73</td>\n",
       "      <td>69</td>\n",
       "    </tr>\n",
       "  </tbody>\n",
       "</table>\n",
       "</div>"
      ],
      "text/plain": [
       "     gender race/ethnicity parental level of education         lunch  \\\n",
       "153  female        group B          associate's degree      standard   \n",
       "154  female        group B            some high school      standard   \n",
       "155  female        group C          associate's degree  free/reduced   \n",
       "156  female        group C          associate's degree      standard   \n",
       "157  female        group D          associate's degree  free/reduced   \n",
       "158  female        group D                 high school      standard   \n",
       "159  female        group D          associate's degree      standard   \n",
       "160  female        group E          associate's degree  free/reduced   \n",
       "161  female        group E                 high school  free/reduced   \n",
       "162  female        group E                 high school  free/reduced   \n",
       "163  female        group A                some college      standard   \n",
       "164  female        group B             master's degree  free/reduced   \n",
       "165  female        group B                some college  free/reduced   \n",
       "166  female        group B                 high school      standard   \n",
       "167  female        group B                 high school      standard   \n",
       "168  female        group B          associate's degree      standard   \n",
       "169  female        group B                 high school      standard   \n",
       "170  female        group C          associate's degree      standard   \n",
       "171  female        group C                some college      standard   \n",
       "172  female        group C                some college      standard   \n",
       "173  female        group C                 high school      standard   \n",
       "174  female        group D                some college  free/reduced   \n",
       "175  female        group D                some college  free/reduced   \n",
       "176  female        group A            some high school      standard   \n",
       "177  female        group A            some high school  free/reduced   \n",
       "\n",
       "    test preparation course  math score  reading score  writing score  \n",
       "153                    none          57             69             68  \n",
       "154                    none          57             67             72  \n",
       "155                    none          57             78             67  \n",
       "156               completed          57             77             80  \n",
       "157               completed          57             74             76  \n",
       "158               completed          57             58             64  \n",
       "159               completed          57             78             79  \n",
       "160               completed          57             68             73  \n",
       "161                    none          57             58             57  \n",
       "162               completed          57             75             73  \n",
       "163                    none          58             70             67  \n",
       "164               completed          58             76             78  \n",
       "165                    none          58             61             66  \n",
       "166               completed          58             70             68  \n",
       "167                    none          58             62             59  \n",
       "168                    none          58             63             65  \n",
       "169                    none          58             68             61  \n",
       "170                    none          58             73             68  \n",
       "171                    none          58             67             72  \n",
       "172                    none          58             59             66  \n",
       "173               completed          58             75             77  \n",
       "174               completed          58             63             73  \n",
       "175                    none          58             67             62  \n",
       "176               completed          59             85             80  \n",
       "177                    none          59             73             69  "
      ]
     },
     "execution_count": 24,
     "metadata": {},
     "output_type": "execute_result"
    }
   ],
   "source": [
    "print('Top 25 students eligible for bonus points')\n",
    "top25.head(25)"
   ]
  },
  {
   "cell_type": "code",
   "execution_count": null,
   "id": "b63c9fa0",
   "metadata": {},
   "outputs": [],
   "source": []
  }
 ],
 "metadata": {
  "kernelspec": {
   "display_name": "Python 3 (ipykernel)",
   "language": "python",
   "name": "python3"
  },
  "language_info": {
   "codemirror_mode": {
    "name": "ipython",
    "version": 3
   },
   "file_extension": ".py",
   "mimetype": "text/x-python",
   "name": "python",
   "nbconvert_exporter": "python",
   "pygments_lexer": "ipython3",
   "version": "3.11.4"
  }
 },
 "nbformat": 4,
 "nbformat_minor": 5
}
